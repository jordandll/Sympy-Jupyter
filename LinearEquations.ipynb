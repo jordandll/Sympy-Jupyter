{
 "cells": [
  {
   "cell_type": "markdown",
   "id": "ac64f158",
   "metadata": {},
   "source": [
    "# Linear Equations\n",
    "\n",
    "In this notebook we practice using Sympy to solve systems of linear equations."
   ]
  },
  {
   "cell_type": "code",
   "execution_count": 1,
   "id": "7f6310e1",
   "metadata": {},
   "outputs": [],
   "source": [
    "import numpy as np\n",
    "import sympy as sp"
   ]
  },
  {
   "cell_type": "markdown",
   "id": "8e4970db",
   "metadata": {},
   "source": [
    "### Two Equations, Two Symbols\n",
    "\n",
    "Below are the equations:  \n",
    "\n",
    "\\begin{equation}\\tag{1.1}\n",
    "    2x+3y=5\n",
    "\\end{equation}    "
   ]
  },
  {
   "cell_type": "markdown",
   "id": "5df24c34",
   "metadata": {},
   "source": [
    "\\begin{equation}\\tag{1.2}\n",
    "    7x + 0.5y = 4\n",
    "\\end{equation}    "
   ]
  },
  {
   "cell_type": "markdown",
   "id": "b4cbb357",
   "metadata": {},
   "source": [
    "First we will solve for $x,y$ *without* using sympy.  Via equation (1.2),  \n",
    "\n",
    "$$ 0.5y = 4-7x$$"
   ]
  },
  {
   "cell_type": "markdown",
   "id": "c6ae8129",
   "metadata": {},
   "source": [
    "Multiplying throughout by $2$ gives:  \n",
    "\n",
    "\\begin{equation}\\tag{1.3}\n",
    "    y = 8 - 14x\n",
    "\\end{equation}        "
   ]
  },
  {
   "cell_type": "markdown",
   "id": "3a5dec8b",
   "metadata": {},
   "source": [
    "Via equations (1.1) and (1.3) and substitution,  \n",
    "\n",
    "$$ 2x + 24 - 42x = 5$$"
   ]
  },
  {
   "cell_type": "markdown",
   "id": "dd0b1995",
   "metadata": {},
   "source": [
    "$$ -40x = 5-24 = -19$$"
   ]
  },
  {
   "cell_type": "markdown",
   "id": "ae7ce22e",
   "metadata": {},
   "source": [
    "Dividing throughout by $-40$ gives:  \n",
    "\n",
    "\\begin{equation}\\tag{1.4}\n",
    "    x = \\frac{19}{40} = 0.475\n",
    "\\end{equation}    "
   ]
  },
  {
   "cell_type": "code",
   "execution_count": 2,
   "id": "4e9eefc7",
   "metadata": {},
   "outputs": [
    {
     "data": {
      "text/plain": [
       "0.475"
      ]
     },
     "execution_count": 2,
     "metadata": {},
     "output_type": "execute_result"
    }
   ],
   "source": [
    "x = 19/40\n",
    "x"
   ]
  },
  {
   "cell_type": "markdown",
   "id": "ef32415b",
   "metadata": {},
   "source": [
    "Via equations (1.4) and (1.3) and substitution,  \n",
    "\n",
    "\\begin{equation}\\tag{1.5}\n",
    "    y = 8 - 14\\cdot 0.475 = 1.35\n",
    "\\end{equation}    "
   ]
  },
  {
   "cell_type": "code",
   "execution_count": 3,
   "id": "2ccea276",
   "metadata": {},
   "outputs": [
    {
     "data": {
      "text/plain": [
       "1.3500000000000005"
      ]
     },
     "execution_count": 3,
     "metadata": {},
     "output_type": "execute_result"
    }
   ],
   "source": [
    "y = 8 - 14*x\n",
    "y"
   ]
  },
  {
   "cell_type": "markdown",
   "id": "0852fd3d",
   "metadata": {},
   "source": [
    "#### Using Sympy\n",
    "\n",
    "Here we use sympy to solve for $x,y$ in the system of equations defined by equations (1.1) and (1.2)."
   ]
  },
  {
   "cell_type": "code",
   "execution_count": 4,
   "id": "95627baa",
   "metadata": {},
   "outputs": [],
   "source": [
    "x, y = sp.symbols('x y')"
   ]
  },
  {
   "cell_type": "code",
   "execution_count": 5,
   "id": "9474c3b6",
   "metadata": {},
   "outputs": [
    {
     "data": {
      "text/latex": [
       "$\\displaystyle \\left\\{\\left( 0.475, \\  1.35\\right)\\right\\}$"
      ],
      "text/plain": [
       "{(0.475, 1.35)}"
      ]
     },
     "execution_count": 5,
     "metadata": {},
     "output_type": "execute_result"
    }
   ],
   "source": [
    "sp.linsolve([2*x + 3*y - 5, 7*x+0.5*y-4], x, y)"
   ]
  },
  {
   "cell_type": "markdown",
   "id": "77ebebf5",
   "metadata": {},
   "source": [
    "### Two Equations, Three Symbols\n",
    "\n",
    "Below are the equations:  \n",
    "\n",
    "\\begin{equation}\\tag{2.1}\n",
    "    ax + 2y = 1\n",
    "\\end{equation}    "
   ]
  },
  {
   "cell_type": "markdown",
   "id": "a2889047",
   "metadata": {},
   "source": [
    "\\begin{equation}\\tag{2.2}\n",
    "    3x + ay = 2\n",
    "\\end{equation}    "
   ]
  },
  {
   "cell_type": "markdown",
   "id": "c5275380",
   "metadata": {},
   "source": [
    "First we will solve $x,y$ in terms of the parameter of the above system of equations, $a$, *without* using `sympy`.  Via equation (2.1),  \n",
    "\n",
    "$$ 2y = 1-ax$$"
   ]
  },
  {
   "cell_type": "markdown",
   "id": "d8ce3b7e",
   "metadata": {},
   "source": [
    "Dividing throughout by $2$ gives:  \n",
    "\n",
    "\\begin{equation}\\tag{2.3}\n",
    "    y = 0.5 - 0.5ax\n",
    "\\end{equation}    "
   ]
  },
  {
   "cell_type": "markdown",
   "id": "eb2a7a79",
   "metadata": {},
   "source": [
    "Via equations (2.3) and (2.2) and substitution,  \n",
    "\n",
    "$$ 3x + 0.5a - 0.5a^2x = 2$$"
   ]
  },
  {
   "cell_type": "markdown",
   "id": "242fdecc",
   "metadata": {},
   "source": [
    "$$ (3-0.5a^2)x = 2-0.5a$$"
   ]
  },
  {
   "cell_type": "markdown",
   "id": "4be8e706",
   "metadata": {},
   "source": [
    "\\begin{equation}\\tag{2.4}\n",
    "    x = \\frac{2-0.5a}{3-0.5a^2}\n",
    "\\end{equation}    "
   ]
  },
  {
   "cell_type": "markdown",
   "id": "4ecdee43",
   "metadata": {},
   "source": [
    "The numerator of identity of $x$ is given by:  "
   ]
  },
  {
   "cell_type": "markdown",
   "id": "c51e5b5c",
   "metadata": {},
   "source": [
    "$$ 2-0.5a = 2-\\frac{a}{2}$$"
   ]
  },
  {
   "cell_type": "markdown",
   "id": "1d93768b",
   "metadata": {},
   "source": [
    "$$ 2-\\frac{a}{2} = \\frac{4-a}{2}$$"
   ]
  },
  {
   "cell_type": "markdown",
   "id": "a983e7a6",
   "metadata": {},
   "source": [
    "And, the denominator of the identity of $x$ in equation (2.4) is given by:  \n",
    "\n",
    "$$ 3 - \\frac{a^2}{2} = \\frac{6-a^2}{2}$$"
   ]
  },
  {
   "cell_type": "markdown",
   "id": "42ab38fd",
   "metadata": {},
   "source": [
    "Which means that equation (2.4) can be rewritten as:  \n",
    "\n",
    "\\begin{equation}\\tag{2.4}\n",
    "    x = \\frac{4-a}{6-a^2}\n",
    "\\end{equation}    "
   ]
  },
  {
   "cell_type": "markdown",
   "id": "4a8c4cd6",
   "metadata": {},
   "source": [
    "Via equations (2.4) and (2.3) and substitution,  \n",
    "\n",
    "\\begin{equation}\\tag{2.5}\n",
    "    y = 0.5 - \\frac{a - 0.25a^2}{3-0.5a^2}\n",
    "\\end{equation}    "
   ]
  },
  {
   "cell_type": "markdown",
   "id": "18310064",
   "metadata": {},
   "source": [
    "Equation (2.5) can be rewritten as:  \n",
    "\n",
    "$$ y = \\frac{1}{2} - \\frac{a-0.25a^2}{3-0.5a^2}$$"
   ]
  },
  {
   "cell_type": "markdown",
   "id": "6102b576",
   "metadata": {},
   "source": [
    "$$ y = \\frac{3-0.5a^2 - 2a + 0.5a^2}{6-a^2}$$"
   ]
  },
  {
   "cell_type": "markdown",
   "id": "d5c0aa12",
   "metadata": {},
   "source": [
    "\\begin{equation}\\tag{2.5}\n",
    "    y = \\frac{3-2a}{6-a^2}\n",
    "\\end{equation}    "
   ]
  },
  {
   "cell_type": "code",
   "execution_count": 6,
   "id": "f2a62f83",
   "metadata": {},
   "outputs": [],
   "source": [
    "a = sp.symbols('a')"
   ]
  },
  {
   "cell_type": "code",
   "execution_count": 7,
   "id": "dd522e18",
   "metadata": {},
   "outputs": [
    {
     "data": {
      "text/latex": [
       "$\\displaystyle \\left\\{\\left( \\frac{a - 4}{a^{2} - 6}, \\  \\frac{2 a - 3}{a^{2} - 6}\\right)\\right\\}$"
      ],
      "text/plain": [
       "{((a - 4)/(a**2 - 6), (2*a - 3)/(a**2 - 6))}"
      ]
     },
     "execution_count": 7,
     "metadata": {},
     "output_type": "execute_result"
    }
   ],
   "source": [
    "sp.linsolve([a*x+2*y-1, 3*x + a*y - 2], x, y)"
   ]
  },
  {
   "cell_type": "code",
   "execution_count": 8,
   "id": "0345711f",
   "metadata": {},
   "outputs": [
    {
     "data": {
      "text/latex": [
       "$\\displaystyle \\left\\{\\left( \\frac{a - 4}{a^{2} - 6}, \\  \\frac{2 a - 3}{a^{2} - 6}\\right)\\right\\}$"
      ],
      "text/plain": [
       "{((a - 4)/(a**2 - 6), (2*a - 3)/(a**2 - 6))}"
      ]
     },
     "execution_count": 8,
     "metadata": {},
     "output_type": "execute_result"
    }
   ],
   "source": [
    "sp.linsolve([sp.Eq(a*x+2*y, 1), 3*x+a*y-2], x, y)"
   ]
  },
  {
   "cell_type": "code",
   "execution_count": 9,
   "id": "61cc3f2b",
   "metadata": {},
   "outputs": [
    {
     "data": {
      "text/latex": [
       "$\\displaystyle \\left\\{\\left( \\frac{a - 4}{a^{2} - 6}, \\  \\frac{2 a - 3}{a^{2} - 6}\\right)\\right\\}$"
      ],
      "text/plain": [
       "{((a - 4)/(a**2 - 6), (2*a - 3)/(a**2 - 6))}"
      ]
     },
     "execution_count": 9,
     "metadata": {},
     "output_type": "execute_result"
    }
   ],
   "source": [
    "eq = [a*x+2*y-1, 3*x + a*y - 2]\n",
    "sp.linsolve(eq, x, y)"
   ]
  },
  {
   "cell_type": "markdown",
   "id": "1700d517",
   "metadata": {},
   "source": [
    "### Three Equations and  Three Symbols\n",
    "\\begin{align*}\\tag{3.1}\n",
    "    \\text{a: }\\;5x + 2y + 3z &= 8 \\\\\n",
    "    \\text{b: }\\;3x + 11y + 7z &= 4 \\\\\n",
    "    \\text{c: }\\;3x + 2y + z &= 2 \n",
    "\\end{align*}    "
   ]
  },
  {
   "cell_type": "markdown",
   "id": "e081f18e",
   "metadata": {},
   "source": [
    "Or, in matrix form:  \n",
    "\n",
    "$$ \\begin{bmatrix}\\tag{3.1}\n",
    "5 &2 &3 \\\\\n",
    "3 &11 &7 \\\\\n",
    "3 &2 &1 \n",
    "\\end{bmatrix} \\cdot \\mathbf{V} = \\begin{bmatrix} 8 \\\\ 4 \\\\ 2 \\end{bmatrix} \\quad \\quad \\text{where }\\; \\mathbf{V} = \\begin{bmatrix} x \\\\ y \\\\ z\\end{bmatrix} $$"
   ]
  },
  {
   "cell_type": "markdown",
   "id": "30756ea0",
   "metadata": {},
   "source": [
    "#### Without Using Sympy\n",
    "\n",
    "Via equation (3.1a),  \n",
    "\n",
    "\\begin{equation}\\tag{3.2}\n",
    "    z = 2 - 3x - 2y\n",
    "\\end{equation}    "
   ]
  },
  {
   "cell_type": "markdown",
   "id": "21f1a3be",
   "metadata": {},
   "source": [
    "Via equations (3.2) and (3.1a),  \n",
    "\n",
    "$$ -4x -4y = 2$$\n",
    "\n",
    "$$ 2(x + y) = -1$$\n",
    "\n",
    "\\begin{equation}\\tag{3.3}\n",
    "    x + y = 0.5\n",
    "\\end{equation}    "
   ]
  },
  {
   "cell_type": "markdown",
   "id": "e45dc866",
   "metadata": {},
   "source": [
    "Via equations (3.2) and (3.1b),  \n",
    "\n",
    "$$ -18x - 3y= -10$$\n",
    "\n",
    "\\begin{equation}\\tag{3.4}\n",
    "    6x + y = \\frac{10}{3}\n",
    "\\end{equation}    "
   ]
  },
  {
   "cell_type": "markdown",
   "id": "adb3d786",
   "metadata": {},
   "source": [
    "Via equations (3.4) and (3.3),  \n",
    "\n",
    "$$ -5x = \\frac{1}{2} - \\frac{10}{3}$$"
   ]
  },
  {
   "cell_type": "markdown",
   "id": "4d60459e",
   "metadata": {},
   "source": [
    "\\begin{equation}\\tag{3.5}\n",
    "    x = \\frac{2}{3} - \\frac{1}{10} = \\frac{17}{30}\n",
    "\\end{equation}    "
   ]
  },
  {
   "cell_type": "markdown",
   "id": "c1d5ab31",
   "metadata": {},
   "source": [
    "Via equations (3.5) and (3.3),  \n",
    "\n",
    "\\begin{equation}\\tag{3.6}\n",
    "    y = \\frac{1}{2} - \\frac{17}{30} = -\\frac{2}{30} = -\\frac{1}{15}\n",
    "\\end{equation}    "
   ]
  },
  {
   "cell_type": "markdown",
   "id": "a57b4598",
   "metadata": {},
   "source": [
    "Finally, via equations (3.6), (3.5) and (3.2),  \n",
    "\n",
    "\\begin{equation}\\tag{3.7}\n",
    "    z = 2 - \\frac{17}{10} - \\frac{2}{15} = 2 - \\frac{17\\cdot 3 - 4}{30} = 2-\\frac{47}{30} = \\frac{13}{30}\n",
    "\\end{equation}    "
   ]
  },
  {
   "cell_type": "code",
   "execution_count": 11,
   "id": "83ef9269",
   "metadata": {},
   "outputs": [
    {
     "data": {
      "text/plain": [
       "13"
      ]
     },
     "execution_count": 11,
     "metadata": {},
     "output_type": "execute_result"
    }
   ],
   "source": [
    "60-47"
   ]
  },
  {
   "cell_type": "markdown",
   "id": "c8eafd46",
   "metadata": {},
   "source": [
    "#### Using Sympy\n"
   ]
  },
  {
   "cell_type": "markdown",
   "id": "37cd82ad",
   "metadata": {},
   "source": [
    "First, we will use the `linsolve` method from the `sympy` module to solve the three linear equations."
   ]
  },
  {
   "cell_type": "code",
   "execution_count": 12,
   "id": "bd3a921b",
   "metadata": {},
   "outputs": [],
   "source": [
    "z = sp.symbols('z')"
   ]
  },
  {
   "cell_type": "code",
   "execution_count": 14,
   "id": "9a0b16d5",
   "metadata": {},
   "outputs": [
    {
     "data": {
      "text/latex": [
       "$\\displaystyle \\left\\{\\left( \\frac{23}{30}, \\  - \\frac{19}{15}, \\  \\frac{67}{30}\\right)\\right\\}$"
      ],
      "text/plain": [
       "{(23/30, -19/15, 67/30)}"
      ]
     },
     "execution_count": 14,
     "metadata": {},
     "output_type": "execute_result"
    }
   ],
   "source": [
    "# Define list of equations.\n",
    "eq = [5*x + 2*y + 3*z - 8]\n",
    "eq.append(3*x + 11*y + 7*z - 4)\n",
    "eq.append(3*x + 2*y + z - 2)\n",
    "\n",
    "# Solve the three equations in 'eq'.\n",
    "sp.linsolve(eq, x, y, z)"
   ]
  },
  {
   "cell_type": "code",
   "execution_count": null,
   "id": "029ece0f",
   "metadata": {},
   "outputs": [],
   "source": []
  }
 ],
 "metadata": {
  "kernelspec": {
   "display_name": "Python 3",
   "language": "python",
   "name": "python3"
  },
  "language_info": {
   "codemirror_mode": {
    "name": "ipython",
    "version": 3
   },
   "file_extension": ".py",
   "mimetype": "text/x-python",
   "name": "python",
   "nbconvert_exporter": "python",
   "pygments_lexer": "ipython3",
   "version": "3.8.10"
  }
 },
 "nbformat": 4,
 "nbformat_minor": 5
}
